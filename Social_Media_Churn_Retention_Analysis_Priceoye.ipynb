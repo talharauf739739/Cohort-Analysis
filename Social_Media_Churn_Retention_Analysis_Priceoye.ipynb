{
  "nbformat": 4,
  "nbformat_minor": 0,
  "metadata": {
    "colab": {
      "provenance": []
    },
    "kernelspec": {
      "name": "python3",
      "display_name": "Python 3"
    },
    "language_info": {
      "name": "python"
    }
  },
  "cells": [
    {
      "cell_type": "code",
      "execution_count": null,
      "metadata": {
        "id": "WLadGMnsCXAF"
      },
      "outputs": [],
      "source": [
        "import pandas as pd\n",
        "\n",
        "# Specify the correct encoding when reading the CSV file\n",
        "df1 = pd.read_excel('/content/podump_(Dec).xlsx')\n",
        "df2 = pd.read_excel('/content/Tiktok.xlsx')\n",
        "# Display the DataFrame\n",
        "#print(df1)\n"
      ]
    },
    {
      "cell_type": "markdown",
      "source": [
        "**Comparing two dataframes, create a new one**"
      ],
      "metadata": {
        "id": "uFC8OfYj5nub"
      }
    },
    {
      "cell_type": "code",
      "source": [
        "\n",
        "\n",
        "# Merge dataframes based on 'Order ID'\n",
        "merged_df = pd.merge(df1, df2, on='Order ID', how='inner')\n",
        "\n",
        "# Create the 'data' dataframe\n",
        "data = merged_df[['Order ID', 'Session source / medium', 'Phone']]\n",
        "\n",
        "# Print the resulting dataframe\n",
        "print(data)\n"
      ],
      "metadata": {
        "colab": {
          "base_uri": "https://localhost:8080/"
        },
        "id": "wvSTDQPw5kqP",
        "outputId": "73b2a40a-793d-4a35-bf9a-42c45b5c9891"
      },
      "execution_count": null,
      "outputs": [
        {
          "output_type": "stream",
          "name": "stdout",
          "text": [
            "      Order ID Session source / medium         Phone\n",
            "0       665178       tiktok / referral  923145150435\n",
            "1       665191       tiktok / referral  923206821243\n",
            "2       665203   tiktok.com / referral  923480775968\n",
            "3       665209   tiktok.com / referral  923124655104\n",
            "4       665212       tiktok / referral  923468872098\n",
            "...        ...                     ...           ...\n",
            "2900    786598       tiktok / referral  923248020127\n",
            "2901    786623       tiktok / referral  923044119083\n",
            "2902    786636       tiktok / referral  923163359843\n",
            "2903    786660      tiktok / (not set)  923322074535\n",
            "2904    786674       tiktok / referral  923495814300\n",
            "\n",
            "[2905 rows x 3 columns]\n"
          ]
        }
      ]
    },
    {
      "cell_type": "markdown",
      "source": [
        "**Rentention\n",
        "**"
      ],
      "metadata": {
        "id": "hqthim4t54hD"
      }
    },
    {
      "cell_type": "code",
      "source": [
        "\n",
        "duplicates = data[data['Phone'].duplicated()]\n",
        "\n",
        "# Display the DataFrame with duplicate values in the 'Phone' column\n",
        "print(duplicates)"
      ],
      "metadata": {
        "colab": {
          "base_uri": "https://localhost:8080/"
        },
        "id": "-LDM70OAChKh",
        "outputId": "74884c1d-0034-457b-913e-04e1434bf8a7"
      },
      "execution_count": null,
      "outputs": [
        {
          "output_type": "stream",
          "name": "stdout",
          "text": [
            "      Order ID Session source / medium         Phone\n",
            "67      669664       tiktok / referral  923122867742\n",
            "89      671403   tiktok.com / referral  923428433053\n",
            "149     675007   tiktok.com / referral  923045262682\n",
            "191     677088       tiktok / referral  923222615060\n",
            "196     677283   tiktok.com / referral  923231758843\n",
            "...        ...                     ...           ...\n",
            "2788    782024   tiktok.com / referral  923225029627\n",
            "2814    782988   tiktok.com / referral  923496504925\n",
            "2841    784163   tiktok.com / referral  923409751727\n",
            "2889    786028       tiktok / referral  923219288940\n",
            "2896    786377   tiktok.com / referral  923251773352\n",
            "\n",
            "[134 rows x 3 columns]\n"
          ]
        }
      ]
    },
    {
      "cell_type": "markdown",
      "source": [
        "**Churn**"
      ],
      "metadata": {
        "id": "aS2wSA9K5-Rp"
      }
    },
    {
      "cell_type": "code",
      "source": [
        "\n",
        "\n",
        "\n",
        "# Find unique values in the 'Phone' column\n",
        "unique_values = data['Phone'].unique()\n",
        "\n",
        "# Create a new DataFrame from the unique values\n",
        "df_unique = pd.DataFrame({'Phone': unique_values})\n",
        "\n",
        "# Display the resulting DataFrame\n",
        "print(df_unique)"
      ],
      "metadata": {
        "colab": {
          "base_uri": "https://localhost:8080/"
        },
        "id": "HQePQd9_DHWI",
        "outputId": "9e75fe72-53fa-45ed-c4f2-6e5dd9993224"
      },
      "execution_count": null,
      "outputs": [
        {
          "output_type": "stream",
          "name": "stdout",
          "text": [
            "             Phone\n",
            "0     923145150435\n",
            "1     923206821243\n",
            "2     923480775968\n",
            "3     923124655104\n",
            "4     923468872098\n",
            "...            ...\n",
            "2766  923248020127\n",
            "2767  923044119083\n",
            "2768  923163359843\n",
            "2769  923322074535\n",
            "2770  923495814300\n",
            "\n",
            "[2771 rows x 1 columns]\n"
          ]
        }
      ]
    },
    {
      "cell_type": "code",
      "source": [
        "# Merge the two DataFrames on the 'Phone' column\n",
        "merged_df = pd.merge(duplicates, df_unique, on='Phone')\n",
        "\n",
        "# Drop duplicates based on the 'Phone' column\n",
        "unique_merged_df = merged_df.drop_duplicates(subset='Phone')\n",
        "\n",
        "# Display the resulting DataFrame\n",
        "print(unique_merged_df)\n",
        "#print(sum(unique_merged_df['Phone']))"
      ],
      "metadata": {
        "colab": {
          "base_uri": "https://localhost:8080/"
        },
        "id": "UNjjjoWCDh1M",
        "outputId": "7b6cbb99-d45c-4f53-acd5-ebaf3e9b83ad"
      },
      "execution_count": null,
      "outputs": [
        {
          "output_type": "stream",
          "name": "stdout",
          "text": [
            "Empty DataFrame\n",
            "Columns: [Order ID, Session source / medium, Phone]\n",
            "Index: []\n"
          ]
        }
      ]
    },
    {
      "cell_type": "code",
      "source": [],
      "metadata": {
        "id": "e8r5zwT8Dr6I"
      },
      "execution_count": null,
      "outputs": []
    }
  ]
}